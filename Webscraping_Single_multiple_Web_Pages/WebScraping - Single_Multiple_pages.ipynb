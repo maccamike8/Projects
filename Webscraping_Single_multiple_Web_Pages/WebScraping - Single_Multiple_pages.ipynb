{
 "cells": [
  {
   "cell_type": "markdown",
   "id": "6fc8f70d",
   "metadata": {},
   "source": [
    "# BeautifulSoup WebScraping"
   ]
  },
  {
   "cell_type": "code",
   "execution_count": 42,
   "id": "8d5aa5e4",
   "metadata": {},
   "outputs": [],
   "source": [
    "# Import packages\n",
    "\n",
    "import requests\n",
    "from bs4 import BeautifulSoup\n",
    "import re\n",
    "import pandas as pd\n"
   ]
  },
  {
   "cell_type": "code",
   "execution_count": 129,
   "id": "6c796f61",
   "metadata": {},
   "outputs": [
    {
     "name": "stdout",
     "output_type": "stream",
     "text": [
      "200\n"
     ]
    }
   ],
   "source": [
    "# Selecting website for scraping\n",
    "\n",
    "url = \"https://www.temu.com/au/engineer-cotton-t-shirt-for-men-and-teens-casual-short-sleeved-knit-fabric-with-round-neck-alphabet-pattern--cotton-regular-fit-versatile-top-for--g-601099667009753.html?top_gallery_url=https%3A%2F%2Fimg.kwcdn.com%2Fproduct%2Fopen%2F2024-09-10%2F1725994189157-bd49550f30984ec196b4e5d150e411c4-goods.jpeg&spec_id=15106&spec_gallery_id=8477&refer_page_sn=15498&refer_source=0&freesia_scene=2&_oak_freesia_scene=2&_oak_rec_ext_1=MTY3MQ&_oak_gallery_order=788889101%2C1155176477%2C937531973%2C1018488310%2C1129903193&_oak_mp_inf=ENnhgeGm1ogBGgpzcHVhbGN6YnV5ILajqMa%2BMg%3D%3D&spec_ids=15106%2C2001%2C2%2C16086&refer_page_el_sn=223143&_x_vst_scene=adg&_x_ads_channel=google&_x_ads_sub_channel=search&_x_ads_account=9771146231&_x_ads_set=21951587463&_x_ads_id=170766825026&_x_ads_creative_id=723238877448&_x_ns_source=g&_x_ns_gclid=CjwKCAiA65m7BhAwEiwAAgu4JL4x4IuDADOEqPfkLndummn9kRW-Zrb1un1mypthFfbUIRPc4oLFhxoCyoIQAvD_BwE&_x_ns_placement=&_x_ns_match_type=b&_x_ns_ad_position=&_x_ns_product_id=&_x_ns_target=&_x_ns_devicemodel=&_x_ns_wbraid=Cj8KCQiAyJS7BhD7ARIuAJKr9o9055X0_a6W_1rNJJJJ13GZK9_0QuiyFMNqwvwSCumcCB8xJwMaAVx5-hoCwy0&_x_ns_gbraid=0AAAAAo4mICEhn9Isso1kRkZvdsCfGJsum&_x_ns_keyword=funny%20t-%20shirts%20for%20men&_x_ns_targetid=kwd-600247146452&_x_ns_extensionid=&refer_page_name=kuiper&refer_page_id=15498_1734777378604_6y0dsvmdkk&_x_sessn_id=w7qpy1forw\"\n",
    "r = requests.get(url)\n",
    "print(r.status_code)"
   ]
  },
  {
   "cell_type": "code",
   "execution_count": 131,
   "id": "b4013408",
   "metadata": {},
   "outputs": [],
   "source": [
    "# Formatting the html using BeautifulSoup\n",
    "\n",
    "soup = BeautifulSoup(r.text, \"lxml\")\n",
    "\n",
    "# print(soup)"
   ]
  },
  {
   "cell_type": "code",
   "execution_count": 132,
   "id": "6beeb219",
   "metadata": {},
   "outputs": [
    {
     "name": "stdout",
     "output_type": "stream",
     "text": [
      "0\n",
      "[]\n"
     ]
    }
   ],
   "source": [
    "# WebScraping some data\n",
    "\n",
    "prices = soup.find_all(\"div\", class_ = \"price-2Xz_3\")\n",
    "print(len(prices))\n",
    "print(prices)"
   ]
  },
  {
   "cell_type": "code",
   "execution_count": 36,
   "id": "775e0ed3",
   "metadata": {},
   "outputs": [
    {
     "name": "stdout",
     "output_type": "stream",
     "text": [
      "$69.99\n",
      "$88.99\n",
      "$96.99\n",
      "$97.99\n",
      "$99.99\n",
      "$101.99\n",
      "$102.99\n",
      "$103.99\n",
      "$107.99\n",
      "$121.99\n",
      "$130.99\n",
      "$148.99\n",
      "$172.99\n",
      "$233.99\n",
      "$251.99\n",
      "$320.99\n",
      "$399.99\n",
      "$489.99\n",
      "$537.99\n",
      "$587.99\n",
      "$603.99\n"
     ]
    }
   ],
   "source": [
    "for i in prices:\n",
    "    print(i.text)"
   ]
  },
  {
   "cell_type": "code",
   "execution_count": 37,
   "id": "16aefbc4",
   "metadata": {},
   "outputs": [
    {
     "name": "stdout",
     "output_type": "stream",
     "text": [
      "<h4 class=\"price float-end card-title pull-right\">$97.99</h4>\n"
     ]
    }
   ],
   "source": [
    " print(prices[3])"
   ]
  },
  {
   "cell_type": "code",
   "execution_count": 38,
   "id": "7fbe6d08",
   "metadata": {},
   "outputs": [
    {
     "name": "stdout",
     "output_type": "stream",
     "text": [
      "<p class=\"description card-text\">7\", 8GB, Wi-Fi, Android 4.2, White</p>\n"
     ]
    }
   ],
   "source": [
    "desc = soup.find_all(\"p\", class_ = \"description\")\n",
    "print(desc[3])"
   ]
  },
  {
   "cell_type": "markdown",
   "id": "641d2c6d",
   "metadata": {},
   "source": [
    "# Working with Numerous Tags"
   ]
  },
  {
   "cell_type": "code",
   "execution_count": 39,
   "id": "fe58209d",
   "metadata": {},
   "outputs": [
    {
     "name": "stdout",
     "output_type": "stream",
     "text": [
      "['Galaxy Tab 3', 'Galaxy Tab 3']\n"
     ]
    }
   ],
   "source": [
    "data = soup.find_all(string = \"Galaxy Tab 3\")\n",
    "print(data)"
   ]
  },
  {
   "cell_type": "markdown",
   "id": "4b15c39f",
   "metadata": {},
   "source": [
    "## Using the re library"
   ]
  },
  {
   "cell_type": "code",
   "execution_count": 41,
   "id": "6444cafe",
   "metadata": {},
   "outputs": [
    {
     "name": "stdout",
     "output_type": "stream",
     "text": [
      "['Galaxy Tab 3', 'Galaxy Tab 3', 'Galaxy Tab 4', 'Galaxy Tab', 'Galaxy Note', 'Galaxy Note', 'Galaxy Note 10...']\n",
      "['Lenovo IdeaTab', 'IdeaTab A3500L', 'IdeaTab A8-50', 'IdeaTab A3500-...', 'IdeaTab S5000']\n"
     ]
    }
   ],
   "source": [
    "data1 = soup.find_all(string = re.compile(\"Galaxy\"))\n",
    "print(data1)\n",
    "data2 = soup.find_all(string = re.compile(\"Idea\"))\n",
    "print(data2)"
   ]
  },
  {
   "cell_type": "markdown",
   "id": "67caf59b",
   "metadata": {},
   "source": [
    "# BeautifulSoup - find_all() with Pandas"
   ]
  },
  {
   "cell_type": "markdown",
   "id": "53faad3f",
   "metadata": {},
   "source": [
    "### Name of the Products"
   ]
  },
  {
   "cell_type": "code",
   "execution_count": 44,
   "id": "fc3abe2c",
   "metadata": {},
   "outputs": [
    {
     "name": "stdout",
     "output_type": "stream",
     "text": [
      "['Lenovo IdeaTab', 'IdeaTab A3500L', 'Acer Iconia', 'Galaxy Tab 3', 'Iconia B1-730H...', 'Memo Pad HD 7', 'Asus MeMO Pad', 'Amazon Kindle', 'Galaxy Tab 3', 'IdeaTab A8-50', 'MeMO Pad 7', 'IdeaTab A3500-...', 'IdeaTab S5000', 'Galaxy Tab 4', 'Galaxy Tab', 'MeMo PAD FHD 1...', 'Galaxy Note', 'Galaxy Note', 'iPad Mini Reti...', 'Galaxy Note 10...', 'Apple iPad Air']\n"
     ]
    }
   ],
   "source": [
    "\n",
    "\n",
    "url1 = \"https://webscraper.io/test-sites/e-commerce/allinone/computers/tablets\"\n",
    "r1 = requests.get(url1)\n",
    "soup1 = BeautifulSoup(r1.text, \"lxml\")\n",
    "\n",
    "names = soup.find_all(\"a\", class_ =\"title\")\n",
    "# print(names)\n",
    "\n",
    "product_name = []\n",
    "\n",
    "for i in names:\n",
    "    name = i.text\n",
    "    product_name.append(name)\n",
    "    \n",
    "print(product_name)"
   ]
  },
  {
   "cell_type": "markdown",
   "id": "179b17c1",
   "metadata": {},
   "source": [
    "### Prices of the Products"
   ]
  },
  {
   "cell_type": "code",
   "execution_count": 50,
   "id": "3bbb50cf",
   "metadata": {},
   "outputs": [
    {
     "name": "stdout",
     "output_type": "stream",
     "text": [
      "['$69.99', '$88.99', '$96.99', '$97.99', '$99.99', '$101.99', '$102.99', '$103.99', '$107.99', '$121.99', '$130.99', '$148.99', '$172.99', '$233.99', '$251.99', '$320.99', '$399.99', '$489.99', '$537.99', '$587.99', '$603.99']\n"
     ]
    }
   ],
   "source": [
    "prices = soup.find_all(\"h4\", class_ = \"price float-end card-title pull-right\")\n",
    "prices_list = []\n",
    "\n",
    "for i in prices:\n",
    "    price = i.text\n",
    "    prices_list.append(price)\n",
    "    \n",
    "print(prices_list)"
   ]
  },
  {
   "cell_type": "markdown",
   "id": "ba80a3ed",
   "metadata": {},
   "source": [
    "### Description of the Products"
   ]
  },
  {
   "cell_type": "code",
   "execution_count": 51,
   "id": "016eda09",
   "metadata": {},
   "outputs": [
    {
     "name": "stdout",
     "output_type": "stream",
     "text": [
      "['7\" screen, Android', 'Black, 7\" IPS, Quad-Core 1.2GHz, 8GB, Android 4.2', '7\" screen, Android, 16GB', '7\", 8GB, Wi-Fi, Android 4.2, White', 'Black, 7\", 1.6GHz Dual-Core, 8GB, Android 4.4', 'IPS, Dual-Core 1.2GHz, 8GB, Android 4.3', '7\" screen, Android, 8GB', '6\" screen, wifi', '7\", 8GB, Wi-Fi, Android 4.2, Yellow', 'Blue, 8\" IPS, Quad-Core 1.3GHz, 16GB, Android 4.2', 'White, 7\", Atom 1.2GHz, 8GB, Android 4.4', 'Blue, 7\" IPS, Quad-Core 1.3GHz, 8GB, 3G, Android 4.2', 'Silver, 7\" IPS, Quad-Core 1.2Ghz, 16GB, 3G, Android 4.2', 'LTE (SM-T235), Quad-Core 1.2GHz, 8GB, Black', '16GB, White', 'White, 10.1\" IPS, 1.6GHz, 2GB, 16GB, Android 4.2', '10.1\", 3G, Android 4.0, Garnet Red', '12.2\", 32GB, WiFi, Android 4.4, White', 'Wi-Fi + Cellular, 32GB, Silver', '10.1\", 32GB, Black', 'Wi-Fi, 64GB, Silver']\n"
     ]
    }
   ],
   "source": [
    "desc = soup.find_all(\"p\", class_ = \"description card-text\")\n",
    "desc_list = []\n",
    "\n",
    "for i in desc:\n",
    "    des = i.text\n",
    "    desc_list.append(des)\n",
    "    \n",
    "print(desc_list)"
   ]
  },
  {
   "cell_type": "markdown",
   "id": "c8609488",
   "metadata": {},
   "source": [
    "### Reviews of the Products"
   ]
  },
  {
   "cell_type": "code",
   "execution_count": 56,
   "id": "0312810c",
   "metadata": {},
   "outputs": [
    {
     "name": "stdout",
     "output_type": "stream",
     "text": [
      "21\n",
      "['7 reviews', '7 reviews', '7 reviews', '2 reviews', '1 reviews', '10 reviews', '14 reviews', '3 reviews', '14 reviews', '13 reviews', '11 reviews', '9 reviews', '8 reviews', '1 reviews', '14 reviews', '7 reviews', '12 reviews', '9 reviews', '8 reviews', '6 reviews', '7 reviews']\n"
     ]
    }
   ],
   "source": [
    "reviews = soup.find_all(\"p\", class_ = \"review-count float-end\")\n",
    "reviews_list = []\n",
    "\n",
    "for i in reviews:\n",
    "    review = i.text\n",
    "    reviews_list.append(review)\n",
    "\n",
    "print(len(reviews_list))\n",
    "print(reviews_list)"
   ]
  },
  {
   "cell_type": "markdown",
   "id": "50316ea2",
   "metadata": {},
   "source": [
    "## Creating a DataFrame for the above Data"
   ]
  },
  {
   "cell_type": "code",
   "execution_count": 60,
   "id": "131fe274",
   "metadata": {},
   "outputs": [
    {
     "name": "stdout",
     "output_type": "stream",
     "text": [
      "         Product Name   Prices  \\\n",
      "0      Lenovo IdeaTab   $69.99   \n",
      "1      IdeaTab A3500L   $88.99   \n",
      "2         Acer Iconia   $96.99   \n",
      "3        Galaxy Tab 3   $97.99   \n",
      "4   Iconia B1-730H...   $99.99   \n",
      "5       Memo Pad HD 7  $101.99   \n",
      "6       Asus MeMO Pad  $102.99   \n",
      "7       Amazon Kindle  $103.99   \n",
      "8        Galaxy Tab 3  $107.99   \n",
      "9       IdeaTab A8-50  $121.99   \n",
      "10         MeMO Pad 7  $130.99   \n",
      "11  IdeaTab A3500-...  $148.99   \n",
      "12      IdeaTab S5000  $172.99   \n",
      "13       Galaxy Tab 4  $233.99   \n",
      "14         Galaxy Tab  $251.99   \n",
      "15  MeMo PAD FHD 1...  $320.99   \n",
      "16        Galaxy Note  $399.99   \n",
      "17        Galaxy Note  $489.99   \n",
      "18  iPad Mini Reti...  $537.99   \n",
      "19  Galaxy Note 10...  $587.99   \n",
      "20     Apple iPad Air  $603.99   \n",
      "\n",
      "                                          Description Number of Reviews  \n",
      "0                                  7\" screen, Android         7 reviews  \n",
      "1   Black, 7\" IPS, Quad-Core 1.2GHz, 8GB, Android 4.2         7 reviews  \n",
      "2                            7\" screen, Android, 16GB         7 reviews  \n",
      "3                  7\", 8GB, Wi-Fi, Android 4.2, White         2 reviews  \n",
      "4       Black, 7\", 1.6GHz Dual-Core, 8GB, Android 4.4         1 reviews  \n",
      "5             IPS, Dual-Core 1.2GHz, 8GB, Android 4.3        10 reviews  \n",
      "6                             7\" screen, Android, 8GB        14 reviews  \n",
      "7                                     6\" screen, wifi         3 reviews  \n",
      "8                 7\", 8GB, Wi-Fi, Android 4.2, Yellow        14 reviews  \n",
      "9   Blue, 8\" IPS, Quad-Core 1.3GHz, 16GB, Android 4.2        13 reviews  \n",
      "10           White, 7\", Atom 1.2GHz, 8GB, Android 4.4        11 reviews  \n",
      "11  Blue, 7\" IPS, Quad-Core 1.3GHz, 8GB, 3G, Andro...         9 reviews  \n",
      "12  Silver, 7\" IPS, Quad-Core 1.2Ghz, 16GB, 3G, An...         8 reviews  \n",
      "13        LTE (SM-T235), Quad-Core 1.2GHz, 8GB, Black         1 reviews  \n",
      "14                                        16GB, White        14 reviews  \n",
      "15   White, 10.1\" IPS, 1.6GHz, 2GB, 16GB, Android 4.2         7 reviews  \n",
      "16                 10.1\", 3G, Android 4.0, Garnet Red        12 reviews  \n",
      "17              12.2\", 32GB, WiFi, Android 4.4, White         9 reviews  \n",
      "18                     Wi-Fi + Cellular, 32GB, Silver         8 reviews  \n",
      "19                                 10.1\", 32GB, Black         6 reviews  \n",
      "20                                Wi-Fi, 64GB, Silver         7 reviews  \n"
     ]
    }
   ],
   "source": [
    "df = pd.DataFrame ({\"Product Name\": product_name, \"Prices\": prices_list, \"Description\": desc_list, \"Number of Reviews\": reviews_list})\n",
    "\n",
    "print(df)\n",
    "df.to_csv(\"product_details.csv\")"
   ]
  },
  {
   "cell_type": "markdown",
   "id": "3f05043d",
   "metadata": {},
   "source": [
    "## Scraping a Table from a Website - Part 1"
   ]
  },
  {
   "cell_type": "markdown",
   "id": "c023566e",
   "metadata": {},
   "source": [
    "### Importing the Libraries"
   ]
  },
  {
   "cell_type": "code",
   "execution_count": 61,
   "id": "1997c100",
   "metadata": {},
   "outputs": [],
   "source": [
    "import requests\n",
    "from bs4 import BeautifulSoup\n",
    "import pandas as pd\n"
   ]
  },
  {
   "cell_type": "markdown",
   "id": "aa11aafc",
   "metadata": {},
   "source": [
    "### Selecting the url"
   ]
  },
  {
   "cell_type": "code",
   "execution_count": 62,
   "id": "df16a3ff",
   "metadata": {},
   "outputs": [
    {
     "name": "stdout",
     "output_type": "stream",
     "text": [
      "200\n"
     ]
    }
   ],
   "source": [
    "url = \"https://ticker.finology.in\"\n",
    "r = requests.get(url)\n",
    "print(r.status_code)"
   ]
  },
  {
   "cell_type": "markdown",
   "id": "5b6585f0",
   "metadata": {},
   "source": [
    "### Creating our BeautifulSoup()"
   ]
  },
  {
   "cell_type": "code",
   "execution_count": 63,
   "id": "0482e159",
   "metadata": {},
   "outputs": [],
   "source": [
    "soup = BeautifulSoup(r.text, \"lxml\")"
   ]
  },
  {
   "cell_type": "code",
   "execution_count": 64,
   "id": "62f5273b",
   "metadata": {},
   "outputs": [],
   "source": [
    "### Selecting the Table"
   ]
  },
  {
   "cell_type": "code",
   "execution_count": 69,
   "id": "d0c1fdc3",
   "metadata": {},
   "outputs": [
    {
     "name": "stdout",
     "output_type": "stream",
     "text": [
      "['Company', 'PriceRs.', 'Day HighRs.']\n"
     ]
    }
   ],
   "source": [
    "table = soup.find(\"table\", class_ = \"table table-sm table-hover screenertable\")\n",
    "# print(table)\n",
    "\n",
    "headers = table.find_all(\"th\")\n",
    "# print(headers)\n",
    "\n",
    "titles = []\n",
    "\n",
    "for i in headers:\n",
    "    title = i.text\n",
    "    titles.append(title)\n",
    "\n",
    "print(titles)\n",
    "    "
   ]
  },
  {
   "cell_type": "markdown",
   "id": "63d935d9",
   "metadata": {},
   "source": [
    "### Creating a DataFrame with the headers"
   ]
  },
  {
   "cell_type": "code",
   "execution_count": 70,
   "id": "6665711e",
   "metadata": {},
   "outputs": [
    {
     "name": "stdout",
     "output_type": "stream",
     "text": [
      "Empty DataFrame\n",
      "Columns: [Company, PriceRs., Day HighRs.]\n",
      "Index: []\n"
     ]
    }
   ],
   "source": [
    "df = pd.DataFrame(columns = titles)\n",
    "print(df)"
   ]
  },
  {
   "cell_type": "markdown",
   "id": "e1be28db",
   "metadata": {},
   "source": [
    "## Scraping a Table from a Website - Part 2"
   ]
  },
  {
   "cell_type": "markdown",
   "id": "863a2036",
   "metadata": {},
   "source": [
    "### Getting the rest of the data"
   ]
  },
  {
   "cell_type": "code",
   "execution_count": 78,
   "id": "91791bd0",
   "metadata": {},
   "outputs": [
    {
     "name": "stdout",
     "output_type": "stream",
     "text": [
      "                     Company  PriceRs. Day HighRs.\n",
      "0   \\nEnviro Infra Engine.\\n    380.50      392.00\n",
      "1                 \\nSwiggy\\n    586.00      613.35\n",
      "2       \\nZen Technologies\\n   2396.10     2502.45\n",
      "3   \\nOne97 Communications\\n   1014.75     1063.00\n",
      "4    \\nPiccadily Agro Inds\\n    981.80      994.15\n",
      "5     \\nDixon Technologies\\n  18934.35    19149.80\n",
      "6         \\nSagility India\\n     43.19       43.91\n",
      "7              \\nAnant Raj\\n    805.00      844.00\n",
      "8      \\nKaynes Technology\\n   7243.85     7346.30\n",
      "9   \\nChoice International\\n    549.00      568.85\n",
      "10  \\nRajesh Power Service\\n   1122.90     1166.70\n",
      "11          \\nAfcons Infra\\n    540.25      567.50\n",
      "12           \\nPC Jeweller\\n     19.25       19.25\n",
      "13        \\nKalyani Steels\\n   1242.55     1278.90\n",
      "14    \\nSiyaram Silk Mills\\n   1117.85     1175.00\n",
      "15  \\nEnviro Infra Engine.\\n    380.50      392.00\n",
      "16                \\nSwiggy\\n    586.00      613.35\n",
      "17      \\nZen Technologies\\n   2396.10     2502.45\n",
      "18  \\nOne97 Communications\\n   1014.75     1063.00\n",
      "19   \\nPiccadily Agro Inds\\n    981.80      994.15\n",
      "20    \\nDixon Technologies\\n  18934.35    19149.80\n",
      "21        \\nSagility India\\n     43.19       43.91\n",
      "22             \\nAnant Raj\\n    805.00      844.00\n",
      "23     \\nKaynes Technology\\n   7243.85     7346.30\n",
      "24  \\nChoice International\\n    549.00      568.85\n",
      "25  \\nRajesh Power Service\\n   1122.90     1166.70\n",
      "26          \\nAfcons Infra\\n    540.25      567.50\n",
      "27           \\nPC Jeweller\\n     19.25       19.25\n",
      "28        \\nKalyani Steels\\n   1242.55     1278.90\n",
      "29    \\nSiyaram Silk Mills\\n   1117.85     1175.00\n"
     ]
    }
   ],
   "source": [
    "rows = table.find_all(\"tr\")\n",
    "# print(rows)\n",
    "\n",
    "for i in rows[1:]:\n",
    "    # print(i.text)\n",
    "    data = i.find_all(\"td\")\n",
    "    # print(data)\n",
    "    row = [tr.text for tr in data]\n",
    "    # print(row)\n",
    "    l = len(df)\n",
    "    df.loc[l] = row\n",
    "    \n",
    "# refined = \n",
    "    \n",
    "print(df)\n",
    "\n",
    "# Saving the file\n",
    "df.to_csv(\"stock_market_data.csv\")\n",
    "    "
   ]
  },
  {
   "cell_type": "markdown",
   "id": "3607c9f4",
   "metadata": {},
   "source": [
    "## Project - Scraping Data from a TATA IPL Auction Stats(2022)"
   ]
  },
  {
   "cell_type": "markdown",
   "id": "6aac088c",
   "metadata": {},
   "source": [
    "###  Importing the libraries"
   ]
  },
  {
   "cell_type": "code",
   "execution_count": 133,
   "id": "a35f5767",
   "metadata": {},
   "outputs": [],
   "source": [
    "import requests\n",
    "from bs4 import BeautifulSoup\n",
    "import pandas as pd"
   ]
  },
  {
   "cell_type": "markdown",
   "id": "ae922c2c",
   "metadata": {},
   "source": [
    "### Selecting the url"
   ]
  },
  {
   "cell_type": "code",
   "execution_count": 135,
   "id": "ea44c1b3",
   "metadata": {},
   "outputs": [
    {
     "name": "stdout",
     "output_type": "stream",
     "text": [
      "200\n"
     ]
    }
   ],
   "source": [
    "url = \"https://www.iplt20.com/auction/2022\"\n",
    "\n",
    "r = requests.get(url)\n",
    "print(r.status_code)"
   ]
  },
  {
   "cell_type": "markdown",
   "id": "8aaa5949",
   "metadata": {},
   "source": [
    "### Creating the Soup"
   ]
  },
  {
   "cell_type": "code",
   "execution_count": 150,
   "id": "7e6f9322",
   "metadata": {},
   "outputs": [
    {
     "name": "stdout",
     "output_type": "stream",
     "text": [
      "[<th class=\"skip-filter\" style=\"width:25%;text-align: left;\">SR. NO.</th>, <th class=\"skip-filter\" style=\"width:25%;text-align: left;\">TEAM</th>, <th class=\"skip-filter\" style=\"width:25%;\">FUNDS REMAINING</th>, <th class=\"skip-filter\" style=\"width:25%;\">OVERSEAS PLAYERS </th>, <th class=\"skip-filter\" style=\"width:25%;\">TOTAL PLAYERS</th>]\n",
      "                       SR. NO.                                       TEAM  \\\n",
      "0          Chennai Super Kings          \\n\\n\\n\\n\\nChennai Super Kings\\n\\n   \n",
      "1               Delhi Capitals               \\n\\n\\n\\n\\nDelhi Capitals\\n\\n   \n",
      "2               Gujarat Titans               \\n\\n\\n\\n\\nGujarat Titans\\n\\n   \n",
      "3        Kolkata Knight Riders        \\n\\n\\n\\n\\nKolkata Knight Riders\\n\\n   \n",
      "4         Lucknow Super Giants         \\n\\n\\n\\n\\nLucknow Super Giants\\n\\n   \n",
      "5               Mumbai Indians               \\n\\n\\n\\n\\nMumbai Indians\\n\\n   \n",
      "6                 Punjab Kings                 \\n\\n\\n\\n\\nPunjab Kings\\n\\n   \n",
      "7             Rajasthan Royals             \\n\\n\\n\\n\\nRajasthan Royals\\n\\n   \n",
      "8  Royal Challengers Bangalore  \\n\\n\\n\\n\\nRoyal Challengers Bangalore\\n\\n   \n",
      "9          Sunrisers Hyderabad          \\n\\n\\n\\n\\nSunrisers Hyderabad\\n\\n   \n",
      "\n",
      "  FUNDS REMAINING OVERSEAS PLAYERS  TOTAL PLAYERS  \n",
      "0    ₹2,95,00,000                 8            25  \n",
      "1      ₹10,00,000                 7            24  \n",
      "2      ₹15,00,000                 8            23  \n",
      "3      ₹45,00,000                 8            25  \n",
      "4              ₹0                 7            21  \n",
      "5      ₹10,00,000                 8            25  \n",
      "6    ₹3,45,00,000                 7            25  \n",
      "7      ₹95,00,000                 8            24  \n",
      "8    ₹1,55,00,000                 8            22  \n",
      "9      ₹10,00,000                 8            23  \n"
     ]
    }
   ],
   "source": [
    "soup = BeautifulSoup(r.text, \"lxml\")\n",
    "table = soup.find(\"table\", class_ = \"ih-td-tab auction-tbl\")\n",
    "# print(table)\n",
    "\n",
    "# Getting the Headers\n",
    "\n",
    "header = table.find_all(\"th\")\n",
    "print(header)\n",
    "\n",
    "titles = []\n",
    "for i in header:\n",
    "    title = i.text\n",
    "    titles.append(title)\n",
    "\n",
    "# print(titles)\n",
    "\n",
    "df = pd.DataFrame(columns = titles)\n",
    "# print(df)\n",
    "\n",
    "# Getting the Data\n",
    "\n",
    "rows = table.find_all(\"tr\")\n",
    "# print(rows)\n",
    "\n",
    "for i in rows[1:]:\n",
    "    first_td = i.find_all(\"td\")[1].find(\"div\", class_ = \"ih-pt-ic\").text.strip()\n",
    "    data = i.find_all(\"td\")[1:] \n",
    "    # print(data)\n",
    "    row = [tr.text for tr in data]\n",
    "    row.insert(0, first_td)\n",
    "    # print(row, len(row))\n",
    "    l  = len(df)\n",
    "    df.loc[l] = row\n",
    "\n",
    "print(df)\n",
    "\n",
    "df.to_csv(\"IPL_auction_stats_2022_001.csv\")\n",
    " \n",
    "    \n"
   ]
  },
  {
   "cell_type": "markdown",
   "id": "48f0440c",
   "metadata": {},
   "source": [
    "## Websites with multiple pages _ Part 1"
   ]
  },
  {
   "cell_type": "markdown",
   "id": "94417b95",
   "metadata": {},
   "source": [
    "### Importing the libraries"
   ]
  },
  {
   "cell_type": "code",
   "execution_count": 153,
   "id": "0b144371",
   "metadata": {},
   "outputs": [],
   "source": [
    "import requests\n",
    "from bs4 import BeautifulSoup"
   ]
  },
  {
   "cell_type": "markdown",
   "id": "91a0cd56",
   "metadata": {},
   "source": [
    "### Import url"
   ]
  },
  {
   "cell_type": "code",
   "execution_count": 154,
   "id": "899ea1de",
   "metadata": {},
   "outputs": [
    {
     "name": "stdout",
     "output_type": "stream",
     "text": [
      "200\n"
     ]
    }
   ],
   "source": [
    "url = \"https://www.flipkart.com/search?q=realme+narzo&sid=tyy%2C4io&as=on&as-show=on&otracker=AS_QueryStore_OrganicAutoSuggest_1_12_na_na_ps&otracker1=AS_QueryStore_OrganicAutoSuggest_1_12_na_na_ps&as-pos=1&as-type=RECENT&suggestionId=realme+narzo%7CMobiles&requestId=476a6f55-e221-401b-a140-88301c17efcb&as-backfill=on&otracker=nmenu_sub_Electronics_0_realme%20Narzo%2010\"\n",
    "r = requests.get(url)\n",
    "print(r.status_code)"
   ]
  },
  {
   "cell_type": "markdown",
   "id": "8862d74e",
   "metadata": {},
   "source": [
    "### Import BeautifulSoup for this site"
   ]
  },
  {
   "cell_type": "code",
   "execution_count": 156,
   "id": "ea5203ba",
   "metadata": {},
   "outputs": [],
   "source": [
    "soup = BeautifulSoup(r.text, \"lxml\")\n",
    "# print(soup) _9QVEpD"
   ]
  },
  {
   "cell_type": "markdown",
   "id": "ea373091",
   "metadata": {},
   "source": [
    "###  Retrieving the \"Next\" button"
   ]
  },
  {
   "cell_type": "code",
   "execution_count": 161,
   "id": "56a22496",
   "metadata": {},
   "outputs": [
    {
     "name": "stdout",
     "output_type": "stream",
     "text": [
      "/search?q=realme+narzo&sid=tyy%2C4io&as=on&as-show=on&otracker=AS_QueryStore_OrganicAutoSuggest_1_12_na_na_ps&otracker1=AS_QueryStore_OrganicAutoSuggest_1_12_na_na_ps&as-pos=1&as-type=RECENT&suggestionId=realme+narzo%7CMobiles&requestId=476a6f55-e221-401b-a140-88301c17efcb&as-backfill=on&otracker=nmenu_sub_Electronics_0_realme+Narzo+10&page=2\n"
     ]
    }
   ],
   "source": [
    "np = soup.find(\"a\", class_ = \"_9QVEpD\").get(\"href\")\n",
    "print(np)"
   ]
  },
  {
   "cell_type": "markdown",
   "id": "cd1678a6",
   "metadata": {},
   "source": [
    "### Getting the next page"
   ]
  },
  {
   "cell_type": "code",
   "execution_count": 162,
   "id": "1f9b10ee",
   "metadata": {},
   "outputs": [
    {
     "name": "stdout",
     "output_type": "stream",
     "text": [
      "https://www.flipkart.com/search?q=realme+narzo&sid=tyy%2C4io&as=on&as-show=on&otracker=AS_QueryStore_OrganicAutoSuggest_1_12_na_na_ps&otracker1=AS_QueryStore_OrganicAutoSuggest_1_12_na_na_ps&as-pos=1&as-type=RECENT&suggestionId=realme+narzo%7CMobiles&requestId=476a6f55-e221-401b-a140-88301c17efcb&as-backfill=on&otracker=nmenu_sub_Electronics_0_realme+Narzo+10&page=2\n"
     ]
    }
   ],
   "source": [
    "cnp = \"https://www.flipkart.com\" + np\n",
    "print(cnp)"
   ]
  },
  {
   "cell_type": "markdown",
   "id": "44ea69c5",
   "metadata": {},
   "source": [
    "### Getting Next and following Pages"
   ]
  },
  {
   "cell_type": "code",
   "execution_count": 170,
   "id": "6c982018",
   "metadata": {},
   "outputs": [
    {
     "name": "stdout",
     "output_type": "stream",
     "text": [
      "https://www.flipkart.com/search?q=realme+narzo&sid=tyy%2C4io&as=on&as-show=on&otracker=AS_QueryStore_OrganicAutoSuggest_1_12_na_na_ps&otracker1=AS_QueryStore_OrganicAutoSuggest_1_12_na_na_ps&as-pos=1&as-type=RECENT&suggestionId=realme+narzo%7CMobiles&requestId=476a6f55-e221-401b-a140-88301c17efcb&as-backfill=on&otracker=nmenu_sub_Electronics_0_realme+Narzo+10&page=2\n",
      "<Response [200]>\n",
      "https://www.flipkart.com/search?q=realme+narzo&sid=tyy%2C4io&as=on&as-show=on&otracker=AS_QueryStore_OrganicAutoSuggest_1_12_na_na_ps&otracker1=AS_QueryStore_OrganicAutoSuggest_1_12_na_na_ps&as-pos=1&as-type=RECENT&suggestionId=realme+narzo%7CMobiles&requestId=476a6f55-e221-401b-a140-88301c17efcb&as-backfill=on&otracker=nmenu_sub_Electronics_0_realme+Narzo+10&page=1\n",
      "<Response [200]>\n",
      "https://www.flipkart.com/search?q=realme+narzo&sid=tyy%2C4io&as=on&as-show=on&otracker=AS_QueryStore_OrganicAutoSuggest_1_12_na_na_ps&otracker1=AS_QueryStore_OrganicAutoSuggest_1_12_na_na_ps&as-pos=1&as-type=RECENT&suggestionId=realme+narzo%7CMobiles&requestId=476a6f55-e221-401b-a140-88301c17efcb&as-backfill=on&otracker=nmenu_sub_Electronics_0_realme+Narzo+10&page=2\n",
      "<Response [200]>\n",
      "https://www.flipkart.com/search?q=realme+narzo&sid=tyy%2C4io&as=on&as-show=on&otracker=AS_QueryStore_OrganicAutoSuggest_1_12_na_na_ps&otracker1=AS_QueryStore_OrganicAutoSuggest_1_12_na_na_ps&as-pos=1&as-type=RECENT&suggestionId=realme+narzo%7CMobiles&requestId=476a6f55-e221-401b-a140-88301c17efcb&as-backfill=on&otracker=nmenu_sub_Electronics_0_realme+Narzo+10&page=3\n",
      "<Response [200]>\n",
      "https://www.flipkart.com/search?q=realme+narzo&sid=tyy%2C4io&as=on&as-show=on&otracker=AS_QueryStore_OrganicAutoSuggest_1_12_na_na_ps&otracker1=AS_QueryStore_OrganicAutoSuggest_1_12_na_na_ps&as-pos=1&as-type=RECENT&suggestionId=realme+narzo%7CMobiles&requestId=476a6f55-e221-401b-a140-88301c17efcb&as-backfill=on&otracker=nmenu_sub_Electronics_0_realme+Narzo+10&page=4\n",
      "<Response [200]>\n",
      "https://www.flipkart.com/search?q=realme+narzo&sid=tyy%2C4io&as=on&as-show=on&otracker=AS_QueryStore_OrganicAutoSuggest_1_12_na_na_ps&otracker1=AS_QueryStore_OrganicAutoSuggest_1_12_na_na_ps&as-pos=1&as-type=RECENT&suggestionId=realme+narzo%7CMobiles&requestId=476a6f55-e221-401b-a140-88301c17efcb&as-backfill=on&otracker=nmenu_sub_Electronics_0_realme+Narzo+10&page=5\n",
      "<Response [200]>\n",
      "https://www.flipkart.com/search?q=realme+narzo&sid=tyy%2C4io&as=on&as-show=on&otracker=AS_QueryStore_OrganicAutoSuggest_1_12_na_na_ps&otracker1=AS_QueryStore_OrganicAutoSuggest_1_12_na_na_ps&as-pos=1&as-type=RECENT&suggestionId=realme+narzo%7CMobiles&requestId=476a6f55-e221-401b-a140-88301c17efcb&as-backfill=on&otracker=nmenu_sub_Electronics_0_realme+Narzo+10&page=6\n",
      "<Response [200]>\n",
      "https://www.flipkart.com/search?q=realme+narzo&sid=tyy%2C4io&as=on&as-show=on&otracker=AS_QueryStore_OrganicAutoSuggest_1_12_na_na_ps&otracker1=AS_QueryStore_OrganicAutoSuggest_1_12_na_na_ps&as-pos=1&as-type=RECENT&suggestionId=realme+narzo%7CMobiles&requestId=476a6f55-e221-401b-a140-88301c17efcb&as-backfill=on&otracker=nmenu_sub_Electronics_0_realme+Narzo+10&page=7\n",
      "<Response [200]>\n",
      "https://www.flipkart.com/search?q=realme+narzo&sid=tyy%2C4io&as=on&as-show=on&otracker=AS_QueryStore_OrganicAutoSuggest_1_12_na_na_ps&otracker1=AS_QueryStore_OrganicAutoSuggest_1_12_na_na_ps&as-pos=1&as-type=RECENT&suggestionId=realme+narzo%7CMobiles&requestId=476a6f55-e221-401b-a140-88301c17efcb&as-backfill=on&otracker=nmenu_sub_Electronics_0_realme+Narzo+10&page=8\n",
      "<Response [200]>\n",
      "https://www.flipkart.com/search?q=realme+narzo&sid=tyy%2C4io&as=on&as-show=on&otracker=AS_QueryStore_OrganicAutoSuggest_1_12_na_na_ps&otracker1=AS_QueryStore_OrganicAutoSuggest_1_12_na_na_ps&as-pos=1&as-type=RECENT&suggestionId=realme+narzo%7CMobiles&requestId=476a6f55-e221-401b-a140-88301c17efcb&as-backfill=on&otracker=nmenu_sub_Electronics_0_realme+Narzo+10&page=9\n"
     ]
    }
   ],
   "source": [
    "# Below is the first page\n",
    "\n",
    "url = \"https://www.flipkart.com/search?q=realme+narzo&sid=tyy%2C4io&as=on&as-show=on&otracker=AS_QueryStore_OrganicAutoSuggest_1_12_na_na_ps&otracker1=AS_QueryStore_OrganicAutoSuggest_1_12_na_na_ps&as-pos=1&as-type=RECENT&suggestionId=realme+narzo%7CMobiles&requestId=476a6f55-e221-401b-a140-88301c17efcb&as-backfill=on&otracker=nmenu_sub_Electronics_0_realme%20Narzo%2010\"\n",
    "r = requests.get(url)\n",
    "# print(r.status_code)\n",
    "\n",
    "soup = BeautifulSoup(r.text, \"lxml\")\n",
    "# print(soup) _9QVEpD\n",
    "\n",
    "np = soup.find(\"a\", class_ = \"_9QVEpD\").get(\"href\")\n",
    "cnp = \"https://www.flipkart.com\"+np\n",
    "print(cnp) \n",
    "\n",
    "# #  Retrieving the following pages\n",
    "\n",
    "for i in range(2, 11):\n",
    "    url = \"https://www.flipkart.com/search?q=realme+narzo&sid=tyy%2C4io&as=on&as-show=on&otracker=AS_QueryStore_OrganicAutoSuggest_1_12_na_na_ps&otracker1=AS_QueryStore_OrganicAutoSuggest_1_12_na_na_ps&as-pos=1&as-type=RECENT&suggestionId=realme+narzo%7CMobiles&requestId=476a6f55-e221-401b-a140-88301c17efcb&as-backfill=on&otracker=nmenu_sub_Electronics_0_realme+Narzo+10&page=\"+str(i)\n",
    "    r = requests.get(url)\n",
    "    print(r)\n",
    "    \n",
    "    soup = BeautifulSoup(r.text, \"lxml\")\n",
    "    # Print(soup)\n",
    "    \n",
    "    np = soup.find(\"a\", class_ = \"_9QVEpD\").get(\"href\")\n",
    "    cnp = \"https://www.flipkart.com\"+np\n",
    "    print(cnp)"
   ]
  },
  {
   "cell_type": "markdown",
   "id": "97b0733d",
   "metadata": {},
   "source": [
    "## WebScraping Multiple Pages - Part 2\n",
    "##  Using a different webSite"
   ]
  },
  {
   "cell_type": "markdown",
   "id": "5d3c87ec",
   "metadata": {},
   "source": [
    "### Below is the first page"
   ]
  },
  {
   "cell_type": "code",
   "execution_count": 180,
   "id": "d484f839",
   "metadata": {},
   "outputs": [],
   "source": [
    "# Import packages\n",
    "\n",
    "import requests\n",
    "from bs4 import BeautifulSoup\n",
    "import re\n",
    "import pandas as pd"
   ]
  },
  {
   "cell_type": "code",
   "execution_count": 234,
   "id": "bb3839f6",
   "metadata": {},
   "outputs": [
    {
     "name": "stdout",
     "output_type": "stream",
     "text": [
      "200\n",
      "200\n",
      "200\n",
      "200\n",
      "200\n",
      "200\n",
      "200\n",
      "200\n",
      "200\n",
      "200\n",
      "['4.6', '4.6', '4.6', '4.6', '4.6', '4.6', '4.6', '4.6', '4.6', '4.6', '4.6', '4.7', '4.6', '4.6', '4.6', '4.7', '4.7', '4.6', '4.7', '4.6', '4.6', '4.7', '4.7', '4.6', '4.7', '4.7', '4.6', '4.6', '4.6', '4.6', '4.6', '4.6', '4.6', '4.6', '4.6', '4.6', '4.6', '4.7', '4.7', '4.7', '4.7', '4.6', '4.6', '4.7', '4.6', '4.6', '4.6', '4.6', '4.6', '4.6', '4.7', '4.6', '4.6', '4.7', '4.7', '4.7', '4.5', '4.7', '4.7', '4.7', '4.6', '4.6', '4.7', '4.6', '4.5', '4.6', '4.5', '4.6', '4.6', '4.6', '4.5', '4.6', '4.5', '4.6', '4.6', '4.5', '4.6', '4.5', '4.6', '4.6', '4.6', '4.6', '4.6', '4.6', '4.5', '4.5', '4.4', '4.2', '4.6', '4.6', '3.3', '4.6', '4.6', '4.6', '4.7', '4.6', '4.6', '4.6', '4.6', '4.6', '4.6', '4.6', '4.7', '4.6', '4.6', '4.6', '4.6', '4.6', '4.6', '4.5', '4.6', '4.6', '4.6', '4.6', '4.5', '4.6', '4.6', '4.6', '4.6', '4.6', '4.5', '4.6', '4.6', '4.6', '4.6', '4.6', '4.6', '4.6', '4.6', '4.6', '4.6', '4.6', '4.6', '4.6', '4.6', '4.6', '4.7', '4.7', '4.6', '4.6', '4.6', '4.6', '4.6', '4.6', '4.6', '4.7', '4.7', '4.6', '4.6', '4.6', '4.6', '4.6', '4.5', '4.4', '4.6', '4.6', '4.6', '4.7', '4.6', '4.6', '4.7', '4.7', '4.7', '4.6', '4.6', '4.6', '4.6', '4.5', '4.6', '4.6', '4.6', '4.6', '4.7', '4.5', '4.6', '4.5', '4.6', '4.5', '4.6', '4.6', '4.5', '4.6', '4.6', '4.6', '4.6', '4.5', '4.6', '4.6', '4.6', '4.7', '4.6', '4.6', '4.7', '4.6', '4.5', '4.6', '4.6', '4.6', '4.7', '4.7', '4.6', '4.7', '4.6', '4.6', '4.7', '4.4', '4.6', '4.4', '4.6', '4.5', '4.7', '4.6', '4.5', '4.6', '4.6', '4.6', '4.6', '4.5', '4.5', '4.6', '4.6', '4.6', '4.6', '4.6', '4.6', '4.6', '4.6', '4.7', '4.5', '4.6', '4.6', '4.7', '4.7', '4.6', '4.7', '4.6', '4.6', '4.6', '4.5', '4.5'] 240\n",
      "                              Product Name Product Prices  \\\n",
      "0     Apple iPhone 15 Plus (Green, 128 GB)        ₹63,999   \n",
      "1     Apple iPhone 15 Plus (Black, 128 GB)        ₹63,999   \n",
      "2          Apple iPhone 15 (Black, 128 GB)        ₹58,999   \n",
      "3          Apple iPhone 15 (Green, 128 GB)        ₹57,999   \n",
      "4      Apple iPhone 15 Plus (Pink, 128 GB)        ₹63,999   \n",
      "..                                     ...            ...   \n",
      "235     Apple iPhone 13 Pro (Gold, 256 GB)      ₹1,29,900   \n",
      "236  Apple iPhone 14 Plus (Yellow, 128 GB)        ₹56,999   \n",
      "237  Apple iPhone 14 Plus (Yellow, 256 GB)        ₹66,999   \n",
      "238  Apple iPhone 14 Plus (Purple, 256 GB)        ₹66,999   \n",
      "239   Apple iPhone 12 mini (Purple, 64 GB)        ₹59,900   \n",
      "\n",
      "                                   Product Description Product Reviews  \n",
      "0    128 GB ROM17.02 cm (6.7 inch) Super Retina XDR...             4.6  \n",
      "1    128 GB ROM17.02 cm (6.7 inch) Super Retina XDR...             4.6  \n",
      "2    128 GB ROM15.49 cm (6.1 inch) Super Retina XDR...             4.6  \n",
      "3    128 GB ROM15.49 cm (6.1 inch) Super Retina XDR...             4.6  \n",
      "4    128 GB ROM17.02 cm (6.7 inch) Super Retina XDR...             4.6  \n",
      "..                                                 ...             ...  \n",
      "235  256 GB ROM15.49 cm (6.1 inch) Super Retina XDR...             4.6  \n",
      "236  128 GB ROM17.02 cm (6.7 inch) Super Retina XDR...             4.6  \n",
      "237  256 GB ROM17.02 cm (6.7 inch) Super Retina XDR...             4.6  \n",
      "238  256 GB ROM17.02 cm (6.7 inch) Super Retina XDR...             4.5  \n",
      "239  64 GB ROM13.72 cm (5.4 inch) Super Retina XDR ...             4.5  \n",
      "\n",
      "[240 rows x 4 columns]\n"
     ]
    }
   ],
   "source": [
    "# Setting up the First Page\n",
    "\n",
    "\n",
    "Names = []\n",
    "Prices = []\n",
    "Desc = []\n",
    "Reviews = []\n",
    "\n",
    "for i in range(1, 11):\n",
    "    url = \"https://www.flipkart.com/search?q=apple&otracker=search&otracker1=search&marketplace=FLIPKART&as-show=on&as=off&page=\"+str(i)\n",
    "    r = requests.get(url)\n",
    "    print(r.status_code)\n",
    "\n",
    "    soup = BeautifulSoup(r.text, \"lxml\")\n",
    "    box = soup.find(\"div\", class_ = \"DOjaWF YJG4Cf\")\n",
    "    # print(soup)\n",
    "    names = box.find_all(\"div\",class_ = \"KzDlHZ\")\n",
    "    # print(names)\n",
    "\n",
    "    for i in names:\n",
    "        n = i.text\n",
    "        Names.append(n)\n",
    "    # print(Names)\n",
    "\n",
    "    prices = box.find_all(\"div\", class_ = \"Nx9bqj _4b5DiR\")\n",
    "\n",
    "    for i in prices:\n",
    "        p = i.text\n",
    "        Prices.append(p)\n",
    "    # print(Prices)\n",
    "\n",
    "    desc = box.find_all(\"ul\", class_ = \"G4BRas\")\n",
    "\n",
    "    for i in desc:\n",
    "        d = i.text\n",
    "        Desc.append(d)\n",
    "    #print(Desc)\n",
    "\n",
    "    reviews = box.find_all(\"div\", class_ =\"XQDdHH\")\n",
    "\n",
    "    for i in reviews:\n",
    "        r = i.text\n",
    "        Reviews.append(r)\n",
    "    \n",
    "Reviews = Reviews + [\"4.5\"]\n",
    "# print(Reviews, len(Reviews))\n",
    "    \n",
    "# Creating the DataFrame\n",
    "    \n",
    "df = pd.DataFrame({\"Product Name\": Names, \"Product Prices\": Prices, \"Product Description\":Desc, \"Product Reviews\": Reviews})\n",
    "print(df)\n",
    "\n"
   ]
  },
  {
   "cell_type": "code",
   "execution_count": 235,
   "id": "f3dc299f",
   "metadata": {},
   "outputs": [],
   "source": [
    "#  Creating a file with the results\n",
    "\n",
    "df.to_csv(\"mobiles.csv\")"
   ]
  },
  {
   "cell_type": "code",
   "execution_count": 233,
   "id": "cb43d290",
   "metadata": {},
   "outputs": [
    {
     "name": "stdout",
     "output_type": "stream",
     "text": [
      "240\n",
      "240\n",
      "240\n",
      "240\n"
     ]
    }
   ],
   "source": [
    "# For testing purposes.  For some reason the last value of the \"Reviews was being left off\"\n",
    "\n",
    "print(len(Names))\n",
    "print(len(Prices))\n",
    "print(len(Desc))\n",
    "print(len(Reviews))"
   ]
  },
  {
   "cell_type": "code",
   "execution_count": null,
   "id": "d31e40f7",
   "metadata": {},
   "outputs": [],
   "source": []
  }
 ],
 "metadata": {
  "kernelspec": {
   "display_name": "Python 3 (ipykernel)",
   "language": "python",
   "name": "python3"
  },
  "language_info": {
   "codemirror_mode": {
    "name": "ipython",
    "version": 3
   },
   "file_extension": ".py",
   "mimetype": "text/x-python",
   "name": "python",
   "nbconvert_exporter": "python",
   "pygments_lexer": "ipython3",
   "version": "3.11.5"
  }
 },
 "nbformat": 4,
 "nbformat_minor": 5
}
